{
 "cells": [
  {
   "cell_type": "code",
   "execution_count": 123,
   "id": "ae286e8d",
   "metadata": {},
   "outputs": [],
   "source": [
    "import pandas as pd\n",
    "import numpy as np\n",
    "import matplotlib.pyplot as plt\n",
    "from sklearn.linear_model import LogisticRegression\n",
    "from sklearn.neighbors import NearestNeighbors\n",
    "from sklearn.preprocessing import OneHotEncoder, MinMaxScaler\n",
    "from sklearn.pipeline import Pipeline\n",
    "from sklearn.compose import ColumnTransformer\n",
    "from sklearn.decomposition import PCA"
   ]
  },
  {
   "cell_type": "code",
   "execution_count": 2,
   "id": "351704ee",
   "metadata": {},
   "outputs": [],
   "source": [
    "colormap = {'A': '#A82721', \n",
    "            'O': '#EAC73E', \n",
    "            'V': '#254264', \n",
    "            'Ø': '#E6801A', \n",
    "            'I': '#3FB2BE', \n",
    "            'Å': '#2B8738', \n",
    "            'B': '#733280', \n",
    "            'F': '#E07EA8', \n",
    "            'C': '#96B226', \n",
    "            'D': '#127B7F', \n",
    "            'K': '#8B8474', \n",
    "            'Q': '#C49414', \n",
    "            'M': '#832B93', \n",
    "            'Æ': '#2C5877'}"
   ]
  },
  {
   "cell_type": "code",
   "execution_count": 3,
   "id": "f932e5e8",
   "metadata": {},
   "outputs": [],
   "source": [
    "df = pd.read_csv('../data/kandidater_data.csv').dropna()"
   ]
  },
  {
   "cell_type": "code",
   "execution_count": 4,
   "id": "25e5f451",
   "metadata": {},
   "outputs": [
    {
     "data": {
      "text/html": [
       "<div>\n",
       "<style scoped>\n",
       "    .dataframe tbody tr th:only-of-type {\n",
       "        vertical-align: middle;\n",
       "    }\n",
       "\n",
       "    .dataframe tbody tr th {\n",
       "        vertical-align: top;\n",
       "    }\n",
       "\n",
       "    .dataframe thead th {\n",
       "        text-align: right;\n",
       "    }\n",
       "</style>\n",
       "<table border=\"1\" class=\"dataframe\">\n",
       "  <thead>\n",
       "    <tr style=\"text-align: right;\">\n",
       "      <th></th>\n",
       "      <th>ID</th>\n",
       "      <th>Firstname</th>\n",
       "      <th>LastName</th>\n",
       "      <th>Gender</th>\n",
       "      <th>Birthdate</th>\n",
       "      <th>CurrentPartyCode</th>\n",
       "      <th>Profession</th>\n",
       "      <th>Education</th>\n",
       "      <th>1</th>\n",
       "      <th>2</th>\n",
       "      <th>...</th>\n",
       "      <th>16</th>\n",
       "      <th>17</th>\n",
       "      <th>18</th>\n",
       "      <th>19</th>\n",
       "      <th>20</th>\n",
       "      <th>21</th>\n",
       "      <th>22</th>\n",
       "      <th>23</th>\n",
       "      <th>24</th>\n",
       "      <th>25</th>\n",
       "    </tr>\n",
       "  </thead>\n",
       "  <tbody>\n",
       "    <tr>\n",
       "      <th>0</th>\n",
       "      <td>391</td>\n",
       "      <td>Anne Valentina</td>\n",
       "      <td>Berthelsen</td>\n",
       "      <td>F</td>\n",
       "      <td>1994-09-16</td>\n",
       "      <td>F</td>\n",
       "      <td>Folketingsmedlem</td>\n",
       "      <td>Bachelor-/diplomuddannelse</td>\n",
       "      <td>2.0</td>\n",
       "      <td>2.0</td>\n",
       "      <td>...</td>\n",
       "      <td>2.0</td>\n",
       "      <td>-1.0</td>\n",
       "      <td>1.0</td>\n",
       "      <td>1.0</td>\n",
       "      <td>-1.0</td>\n",
       "      <td>-2.0</td>\n",
       "      <td>2.0</td>\n",
       "      <td>2.0</td>\n",
       "      <td>1.0</td>\n",
       "      <td>2.0</td>\n",
       "    </tr>\n",
       "    <tr>\n",
       "      <th>1</th>\n",
       "      <td>756</td>\n",
       "      <td>Mattias</td>\n",
       "      <td>Tesfaye</td>\n",
       "      <td>M</td>\n",
       "      <td>1981-03-31</td>\n",
       "      <td>A</td>\n",
       "      <td>Minister</td>\n",
       "      <td>Erhvervsuddannelse</td>\n",
       "      <td>1.0</td>\n",
       "      <td>1.0</td>\n",
       "      <td>...</td>\n",
       "      <td>-2.0</td>\n",
       "      <td>1.0</td>\n",
       "      <td>-1.0</td>\n",
       "      <td>1.0</td>\n",
       "      <td>2.0</td>\n",
       "      <td>-2.0</td>\n",
       "      <td>1.0</td>\n",
       "      <td>1.0</td>\n",
       "      <td>1.0</td>\n",
       "      <td>1.0</td>\n",
       "    </tr>\n",
       "    <tr>\n",
       "      <th>2</th>\n",
       "      <td>235</td>\n",
       "      <td>Kashif</td>\n",
       "      <td>Ahmad</td>\n",
       "      <td>M</td>\n",
       "      <td>1980-06-01</td>\n",
       "      <td>B</td>\n",
       "      <td>Ikke oplyst</td>\n",
       "      <td>Ikke oplyst</td>\n",
       "      <td>1.0</td>\n",
       "      <td>-1.0</td>\n",
       "      <td>...</td>\n",
       "      <td>1.0</td>\n",
       "      <td>-2.0</td>\n",
       "      <td>1.0</td>\n",
       "      <td>-2.0</td>\n",
       "      <td>-2.0</td>\n",
       "      <td>1.0</td>\n",
       "      <td>2.0</td>\n",
       "      <td>2.0</td>\n",
       "      <td>2.0</td>\n",
       "      <td>2.0</td>\n",
       "    </tr>\n",
       "    <tr>\n",
       "      <th>3</th>\n",
       "      <td>931</td>\n",
       "      <td>Ester</td>\n",
       "      <td>Esmarch</td>\n",
       "      <td>F</td>\n",
       "      <td>1974-12-31</td>\n",
       "      <td>K</td>\n",
       "      <td>Offentligt ansat</td>\n",
       "      <td>Bachelor-/diplomuddannelse</td>\n",
       "      <td>1.0</td>\n",
       "      <td>1.0</td>\n",
       "      <td>...</td>\n",
       "      <td>-1.0</td>\n",
       "      <td>-2.0</td>\n",
       "      <td>-1.0</td>\n",
       "      <td>1.0</td>\n",
       "      <td>-2.0</td>\n",
       "      <td>1.0</td>\n",
       "      <td>1.0</td>\n",
       "      <td>1.0</td>\n",
       "      <td>-1.0</td>\n",
       "      <td>1.0</td>\n",
       "    </tr>\n",
       "    <tr>\n",
       "      <th>5</th>\n",
       "      <td>386</td>\n",
       "      <td>Peter</td>\n",
       "      <td>Westermann</td>\n",
       "      <td>M</td>\n",
       "      <td>1985-06-01</td>\n",
       "      <td>F</td>\n",
       "      <td>Byråds- eller regionsrådsmedlem</td>\n",
       "      <td>Kandidat-/masteruddannelse</td>\n",
       "      <td>1.0</td>\n",
       "      <td>1.0</td>\n",
       "      <td>...</td>\n",
       "      <td>1.0</td>\n",
       "      <td>-1.0</td>\n",
       "      <td>1.0</td>\n",
       "      <td>1.0</td>\n",
       "      <td>-2.0</td>\n",
       "      <td>-2.0</td>\n",
       "      <td>2.0</td>\n",
       "      <td>2.0</td>\n",
       "      <td>2.0</td>\n",
       "      <td>1.0</td>\n",
       "    </tr>\n",
       "    <tr>\n",
       "      <th>...</th>\n",
       "      <td>...</td>\n",
       "      <td>...</td>\n",
       "      <td>...</td>\n",
       "      <td>...</td>\n",
       "      <td>...</td>\n",
       "      <td>...</td>\n",
       "      <td>...</td>\n",
       "      <td>...</td>\n",
       "      <td>...</td>\n",
       "      <td>...</td>\n",
       "      <td>...</td>\n",
       "      <td>...</td>\n",
       "      <td>...</td>\n",
       "      <td>...</td>\n",
       "      <td>...</td>\n",
       "      <td>...</td>\n",
       "      <td>...</td>\n",
       "      <td>...</td>\n",
       "      <td>...</td>\n",
       "      <td>...</td>\n",
       "      <td>...</td>\n",
       "    </tr>\n",
       "    <tr>\n",
       "      <th>987</th>\n",
       "      <td>203</td>\n",
       "      <td>Andreas</td>\n",
       "      <td>Steenberg</td>\n",
       "      <td>M</td>\n",
       "      <td>1983-07-22</td>\n",
       "      <td>B</td>\n",
       "      <td>Folketingsmedlem</td>\n",
       "      <td>Kandidat-/masteruddannelse</td>\n",
       "      <td>1.0</td>\n",
       "      <td>-2.0</td>\n",
       "      <td>...</td>\n",
       "      <td>1.0</td>\n",
       "      <td>-2.0</td>\n",
       "      <td>1.0</td>\n",
       "      <td>-1.0</td>\n",
       "      <td>-2.0</td>\n",
       "      <td>-1.0</td>\n",
       "      <td>-1.0</td>\n",
       "      <td>1.0</td>\n",
       "      <td>1.0</td>\n",
       "      <td>-1.0</td>\n",
       "    </tr>\n",
       "    <tr>\n",
       "      <th>988</th>\n",
       "      <td>934</td>\n",
       "      <td>Jonas Røjkjær</td>\n",
       "      <td>Laustsen</td>\n",
       "      <td>M</td>\n",
       "      <td>2000-12-25</td>\n",
       "      <td>K</td>\n",
       "      <td>Studerende</td>\n",
       "      <td>Gymnasial uddannelse</td>\n",
       "      <td>-1.0</td>\n",
       "      <td>-1.0</td>\n",
       "      <td>...</td>\n",
       "      <td>-2.0</td>\n",
       "      <td>-2.0</td>\n",
       "      <td>1.0</td>\n",
       "      <td>-1.0</td>\n",
       "      <td>-2.0</td>\n",
       "      <td>1.0</td>\n",
       "      <td>1.0</td>\n",
       "      <td>1.0</td>\n",
       "      <td>1.0</td>\n",
       "      <td>2.0</td>\n",
       "    </tr>\n",
       "    <tr>\n",
       "      <th>990</th>\n",
       "      <td>118</td>\n",
       "      <td>Tobias</td>\n",
       "      <td>Bennedsen</td>\n",
       "      <td>M</td>\n",
       "      <td>1986-04-14</td>\n",
       "      <td>C</td>\n",
       "      <td>Offentligt ansat</td>\n",
       "      <td>Bachelor-/diplomuddannelse</td>\n",
       "      <td>-2.0</td>\n",
       "      <td>-2.0</td>\n",
       "      <td>...</td>\n",
       "      <td>-2.0</td>\n",
       "      <td>-1.0</td>\n",
       "      <td>-1.0</td>\n",
       "      <td>-1.0</td>\n",
       "      <td>2.0</td>\n",
       "      <td>2.0</td>\n",
       "      <td>1.0</td>\n",
       "      <td>1.0</td>\n",
       "      <td>1.0</td>\n",
       "      <td>-2.0</td>\n",
       "    </tr>\n",
       "    <tr>\n",
       "      <th>993</th>\n",
       "      <td>294</td>\n",
       "      <td>Sandra Elisabeth</td>\n",
       "      <td>Skalvig</td>\n",
       "      <td>F</td>\n",
       "      <td>1990-10-09</td>\n",
       "      <td>I</td>\n",
       "      <td>Offentligt ansat</td>\n",
       "      <td>Bachelor-/diplomuddannelse</td>\n",
       "      <td>-1.0</td>\n",
       "      <td>-2.0</td>\n",
       "      <td>...</td>\n",
       "      <td>-2.0</td>\n",
       "      <td>-1.0</td>\n",
       "      <td>-2.0</td>\n",
       "      <td>-2.0</td>\n",
       "      <td>2.0</td>\n",
       "      <td>2.0</td>\n",
       "      <td>-1.0</td>\n",
       "      <td>-1.0</td>\n",
       "      <td>1.0</td>\n",
       "      <td>-1.0</td>\n",
       "    </tr>\n",
       "    <tr>\n",
       "      <th>995</th>\n",
       "      <td>210</td>\n",
       "      <td>Carolina Magdalene</td>\n",
       "      <td>Maier</td>\n",
       "      <td>F</td>\n",
       "      <td>1973-11-28</td>\n",
       "      <td>B</td>\n",
       "      <td>Leder</td>\n",
       "      <td>Kandidat-/masteruddannelse</td>\n",
       "      <td>2.0</td>\n",
       "      <td>-1.0</td>\n",
       "      <td>...</td>\n",
       "      <td>2.0</td>\n",
       "      <td>-2.0</td>\n",
       "      <td>2.0</td>\n",
       "      <td>-2.0</td>\n",
       "      <td>-2.0</td>\n",
       "      <td>-1.0</td>\n",
       "      <td>2.0</td>\n",
       "      <td>2.0</td>\n",
       "      <td>2.0</td>\n",
       "      <td>1.0</td>\n",
       "    </tr>\n",
       "  </tbody>\n",
       "</table>\n",
       "<p>792 rows × 33 columns</p>\n",
       "</div>"
      ],
      "text/plain": [
       "      ID           Firstname    LastName Gender   Birthdate CurrentPartyCode  \\\n",
       "0    391      Anne Valentina  Berthelsen      F  1994-09-16                F   \n",
       "1    756             Mattias     Tesfaye      M  1981-03-31                A   \n",
       "2    235              Kashif       Ahmad      M  1980-06-01                B   \n",
       "3    931               Ester     Esmarch      F  1974-12-31                K   \n",
       "5    386               Peter  Westermann      M  1985-06-01                F   \n",
       "..   ...                 ...         ...    ...         ...              ...   \n",
       "987  203             Andreas   Steenberg      M  1983-07-22                B   \n",
       "988  934       Jonas Røjkjær    Laustsen      M  2000-12-25                K   \n",
       "990  118              Tobias   Bennedsen      M  1986-04-14                C   \n",
       "993  294    Sandra Elisabeth     Skalvig      F  1990-10-09                I   \n",
       "995  210  Carolina Magdalene       Maier      F  1973-11-28                B   \n",
       "\n",
       "                          Profession                   Education    1    2  \\\n",
       "0                   Folketingsmedlem  Bachelor-/diplomuddannelse  2.0  2.0   \n",
       "1                           Minister          Erhvervsuddannelse  1.0  1.0   \n",
       "2                        Ikke oplyst                 Ikke oplyst  1.0 -1.0   \n",
       "3                   Offentligt ansat  Bachelor-/diplomuddannelse  1.0  1.0   \n",
       "5    Byråds- eller regionsrådsmedlem  Kandidat-/masteruddannelse  1.0  1.0   \n",
       "..                               ...                         ...  ...  ...   \n",
       "987                 Folketingsmedlem  Kandidat-/masteruddannelse  1.0 -2.0   \n",
       "988                       Studerende        Gymnasial uddannelse -1.0 -1.0   \n",
       "990                 Offentligt ansat  Bachelor-/diplomuddannelse -2.0 -2.0   \n",
       "993                 Offentligt ansat  Bachelor-/diplomuddannelse -1.0 -2.0   \n",
       "995                            Leder  Kandidat-/masteruddannelse  2.0 -1.0   \n",
       "\n",
       "     ...   16   17   18   19   20   21   22   23   24   25  \n",
       "0    ...  2.0 -1.0  1.0  1.0 -1.0 -2.0  2.0  2.0  1.0  2.0  \n",
       "1    ... -2.0  1.0 -1.0  1.0  2.0 -2.0  1.0  1.0  1.0  1.0  \n",
       "2    ...  1.0 -2.0  1.0 -2.0 -2.0  1.0  2.0  2.0  2.0  2.0  \n",
       "3    ... -1.0 -2.0 -1.0  1.0 -2.0  1.0  1.0  1.0 -1.0  1.0  \n",
       "5    ...  1.0 -1.0  1.0  1.0 -2.0 -2.0  2.0  2.0  2.0  1.0  \n",
       "..   ...  ...  ...  ...  ...  ...  ...  ...  ...  ...  ...  \n",
       "987  ...  1.0 -2.0  1.0 -1.0 -2.0 -1.0 -1.0  1.0  1.0 -1.0  \n",
       "988  ... -2.0 -2.0  1.0 -1.0 -2.0  1.0  1.0  1.0  1.0  2.0  \n",
       "990  ... -2.0 -1.0 -1.0 -1.0  2.0  2.0  1.0  1.0  1.0 -2.0  \n",
       "993  ... -2.0 -1.0 -2.0 -2.0  2.0  2.0 -1.0 -1.0  1.0 -1.0  \n",
       "995  ...  2.0 -2.0  2.0 -2.0 -2.0 -1.0  2.0  2.0  2.0  1.0  \n",
       "\n",
       "[792 rows x 33 columns]"
      ]
     },
     "execution_count": 4,
     "metadata": {},
     "output_type": "execute_result"
    }
   ],
   "source": [
    "df"
   ]
  },
  {
   "cell_type": "markdown",
   "id": "8a757f62",
   "metadata": {},
   "source": [
    "### Missing not at random ?"
   ]
  },
  {
   "cell_type": "code",
   "execution_count": 19,
   "id": "c04c29a2",
   "metadata": {},
   "outputs": [
    {
     "data": {
      "text/plain": [
       "<BarContainer object of 12 artists>"
      ]
     },
     "execution_count": 19,
     "metadata": {},
     "output_type": "execute_result"
    },
    {
     "data": {
      "image/png": "[encoded data removed]",
      "text/plain": [
       "<Figure size 432x288 with 1 Axes>"
      ]
     },
     "metadata": {
      "needs_background": "light"
     },
     "output_type": "display_data"
    }
   ],
   "source": [
    "fig, ax = plt.subplots()\n",
    "x, y = np.unique(df.Profession, return_counts=True)\n",
    "idx = np.argsort(y)\n",
    "ax.barh(x[idx], y[idx])"
   ]
  },
  {
   "cell_type": "code",
   "execution_count": 20,
   "id": "37198773",
   "metadata": {},
   "outputs": [
    {
     "data": {
      "text/plain": [
       "<BarContainer object of 9 artists>"
      ]
     },
     "execution_count": 20,
     "metadata": {},
     "output_type": "execute_result"
    },
    {
     "data": {
      "image/png": "[encoded data removed]",
      "text/plain": [
       "<Figure size 432x288 with 1 Axes>"
      ]
     },
     "metadata": {
      "needs_background": "light"
     },
     "output_type": "display_data"
    }
   ],
   "source": [
    "fig, ax = plt.subplots()\n",
    "x, y = np.unique(df.Education, return_counts=True)\n",
    "idx = np.argsort(y)\n",
    "ax.barh(x[idx], y[idx])"
   ]
  },
  {
   "cell_type": "code",
   "execution_count": 6,
   "id": "4dc418a4",
   "metadata": {},
   "outputs": [
    {
     "data": {
      "text/plain": [
       "(array([  1.,   0.,   0.,   0.,   0.,   8.,   0.,   0.,   5.,  65.,  63.,\n",
       "         97.,  74.,  98., 129., 107.,  79.,  45.,  13.,   8.]),\n",
       " array([-29.  , -23.65, -18.3 , -12.95,  -7.6 ,  -2.25,   3.1 ,   8.45,\n",
       "         13.8 ,  19.15,  24.5 ,  29.85,  35.2 ,  40.55,  45.9 ,  51.25,\n",
       "         56.6 ,  61.95,  67.3 ,  72.65,  78.  ]),\n",
       " <BarContainer object of 20 artists>)"
      ]
     },
     "execution_count": 6,
     "metadata": {},
     "output_type": "execute_result"
    },
    {
     "data": {
      "image/png": "[encoded data removed]",
      "text/plain": [
       "<Figure size 432x288 with 1 Axes>"
      ]
     },
     "metadata": {
      "needs_background": "light"
     },
     "output_type": "display_data"
    }
   ],
   "source": [
    "df['age'] = 2022 - df.Birthdate.str[:4].astype(int)\n",
    "fig, ax = plt.subplots()\n",
    "ax.hist(df.age, bins=20)"
   ]
  },
  {
   "cell_type": "code",
   "execution_count": 21,
   "id": "5db73259",
   "metadata": {},
   "outputs": [
    {
     "data": {
      "image/png": "[encoded data removed]",
      "text/plain": [
       "<Figure size 576x1080 with 14 Axes>"
      ]
     },
     "metadata": {
      "needs_background": "light"
     },
     "output_type": "display_data"
    }
   ],
   "source": [
    "fig, ax = plt.subplots(df.CurrentPartyCode.nunique(), figsize=(8, 15))\n",
    "means = df.groupby('CurrentPartyCode').agg(mean=('age', 'mean'))\n",
    "for i, party in enumerate(df.CurrentPartyCode.unique()):\n",
    "    mask = df.CurrentPartyCode == party\n",
    "    #ax[i].grid()\n",
    "    ax[i].hist(df[mask].age.to_numpy(), color=colormap[party], bins=30, density=True, edgecolor='white')\n",
    "    # ax[i].boxplot(df[mask].age.to_numpy(), vert=False)\n",
    "    ax[i].set_xlim(16, 100)\n",
    "    ax[i].set_ylim(0, .1)\n",
    "    ax[i].spines['top'].set_visible(False)\n",
    "    ax[i].spines['bottom'].set_visible(False)\n",
    "    ax[i].spines['left'].set_visible(False)\n",
    "    ax[i].spines['right'].set_visible(False)\n",
    "    ax[i].set_xticks([])\n",
    "    ax[i].set_yticks([])\n",
    "    \n",
    "    \n",
    "ax[-1].set_xticks(np.arange(15, 100, 5));"
   ]
  },
  {
   "cell_type": "code",
   "execution_count": 22,
   "id": "d142aea5",
   "metadata": {
    "collapsed": true
   },
   "outputs": [
    {
     "data": {
      "image/png": "[encoded data removed]",
      "text/plain": [
       "<Figure size 576x1080 with 14 Axes>"
      ]
     },
     "metadata": {
      "needs_background": "light"
     },
     "output_type": "display_data"
    }
   ],
   "source": [
    "fig, ax = plt.subplots(df.CurrentPartyCode.nunique(), figsize=(8, 15))\n",
    "means = df.groupby('CurrentPartyCode').agg(mean=('age', 'mean'))\n",
    "for i, party in enumerate(df.CurrentPartyCode.unique()):\n",
    "    mask = df.CurrentPartyCode == party\n",
    "    #ax[i].grid()\n",
    "    # ax[i].hist(df[mask].age.to_numpy(), color=colormap[party], bins=30, density=True)\n",
    "    ax[i].boxplot(df[mask].age.to_numpy(), vert=False)\n",
    "    ax[i].set_xlim(16, 100)\n",
    "    #ax[i].set_ylim(0, .1)\n",
    "    ax[i].spines['top'].set_visible(False)\n",
    "    ax[i].spines['bottom'].set_visible(False)\n",
    "    ax[i].spines['left'].set_visible(False)\n",
    "    ax[i].spines['right'].set_visible(False)\n",
    "    ax[i].set_xticks([])\n",
    "    ax[i].set_yticks([])\n",
    "    \n",
    "    \n",
    "ax[-1].set_xticks(np.arange(15, 100, 5));"
   ]
  },
  {
   "cell_type": "code",
   "execution_count": 45,
   "id": "4353b445",
   "metadata": {},
   "outputs": [
    {
     "data": {
      "text/html": [
       "<div>\n",
       "<style scoped>\n",
       "    .dataframe tbody tr th:only-of-type {\n",
       "        vertical-align: middle;\n",
       "    }\n",
       "\n",
       "    .dataframe tbody tr th {\n",
       "        vertical-align: top;\n",
       "    }\n",
       "\n",
       "    .dataframe thead th {\n",
       "        text-align: right;\n",
       "    }\n",
       "</style>\n",
       "<table border=\"1\" class=\"dataframe\">\n",
       "  <thead>\n",
       "    <tr style=\"text-align: right;\">\n",
       "      <th></th>\n",
       "      <th>mean</th>\n",
       "    </tr>\n",
       "    <tr>\n",
       "      <th>CurrentPartyCode</th>\n",
       "      <th></th>\n",
       "    </tr>\n",
       "  </thead>\n",
       "  <tbody>\n",
       "    <tr>\n",
       "      <th>A</th>\n",
       "      <td>43.371795</td>\n",
       "    </tr>\n",
       "    <tr>\n",
       "      <th>B</th>\n",
       "      <td>42.661538</td>\n",
       "    </tr>\n",
       "    <tr>\n",
       "      <th>C</th>\n",
       "      <td>43.989011</td>\n",
       "    </tr>\n",
       "    <tr>\n",
       "      <th>D</th>\n",
       "      <td>45.977273</td>\n",
       "    </tr>\n",
       "    <tr>\n",
       "      <th>F</th>\n",
       "      <td>40.698413</td>\n",
       "    </tr>\n",
       "    <tr>\n",
       "      <th>I</th>\n",
       "      <td>37.206349</td>\n",
       "    </tr>\n",
       "    <tr>\n",
       "      <th>K</th>\n",
       "      <td>49.794872</td>\n",
       "    </tr>\n",
       "    <tr>\n",
       "      <th>M</th>\n",
       "      <td>41.428571</td>\n",
       "    </tr>\n",
       "    <tr>\n",
       "      <th>O</th>\n",
       "      <td>44.355556</td>\n",
       "    </tr>\n",
       "    <tr>\n",
       "      <th>Q</th>\n",
       "      <td>34.130435</td>\n",
       "    </tr>\n",
       "    <tr>\n",
       "      <th>V</th>\n",
       "      <td>46.342105</td>\n",
       "    </tr>\n",
       "    <tr>\n",
       "      <th>Å</th>\n",
       "      <td>46.150000</td>\n",
       "    </tr>\n",
       "    <tr>\n",
       "      <th>Æ</th>\n",
       "      <td>50.085714</td>\n",
       "    </tr>\n",
       "    <tr>\n",
       "      <th>Ø</th>\n",
       "      <td>41.500000</td>\n",
       "    </tr>\n",
       "  </tbody>\n",
       "</table>\n",
       "</div>"
      ],
      "text/plain": [
       "                       mean\n",
       "CurrentPartyCode           \n",
       "A                 43.371795\n",
       "B                 42.661538\n",
       "C                 43.989011\n",
       "D                 45.977273\n",
       "F                 40.698413\n",
       "I                 37.206349\n",
       "K                 49.794872\n",
       "M                 41.428571\n",
       "O                 44.355556\n",
       "Q                 34.130435\n",
       "V                 46.342105\n",
       "Å                 46.150000\n",
       "Æ                 50.085714\n",
       "Ø                 41.500000"
      ]
     },
     "execution_count": 45,
     "metadata": {},
     "output_type": "execute_result"
    }
   ],
   "source": [
    "means"
   ]
  },
  {
   "cell_type": "markdown",
   "id": "bd46779c",
   "metadata": {},
   "source": []
  },
  {
   "cell_type": "markdown",
   "id": "67109f94",
   "metadata": {},
   "source": [
    "### Propensity score"
   ]
  },
  {
   "cell_type": "markdown",
   "id": "ca47f314",
   "metadata": {},
   "source": [
    "##### Gender"
   ]
  },
  {
   "cell_type": "code",
   "execution_count": 98,
   "id": "26ad5721",
   "metadata": {},
   "outputs": [],
   "source": [
    "clf = LogisticRegression()\n",
    "\n",
    "ct = ColumnTransformer([\n",
    "    ('scaler', MinMaxScaler(), ['age']),\n",
    "    ('one hot', OneHotEncoder(), ['CurrentPartyCode', 'Profession', 'Education'])\n",
    "])\n",
    "\n",
    "pipe = Pipeline([\n",
    "    ('column transformer', ct), \n",
    "    ('logistic reg', clf)\n",
    "])\n"
   ]
  },
  {
   "cell_type": "code",
   "execution_count": 99,
   "id": "5e5e99bd",
   "metadata": {},
   "outputs": [],
   "source": [
    "# y = df.Gender.to_numpy().reshape(-1, 1)\n",
    "# y = OneHotEncoder().fit_transform(y).toarray()\n",
    "y = df.Gender.map({'M': 1, 'F': 0}).to_numpy()"
   ]
  },
  {
   "cell_type": "code",
   "execution_count": 100,
   "id": "d6c1c4b0",
   "metadata": {},
   "outputs": [
    {
     "data": {
      "text/plain": [
       "Pipeline(steps=[('column transformer',\n",
       "                 ColumnTransformer(transformers=[('scaler', MinMaxScaler(),\n",
       "                                                  ['age']),\n",
       "                                                 ('one hot', OneHotEncoder(),\n",
       "                                                  ['CurrentPartyCode',\n",
       "                                                   'Profession',\n",
       "                                                   'Education'])])),\n",
       "                ('logistic reg', LogisticRegression())])"
      ]
     },
     "execution_count": 100,
     "metadata": {},
     "output_type": "execute_result"
    }
   ],
   "source": [
    "pipe.fit(df, y)"
   ]
  },
  {
   "cell_type": "code",
   "execution_count": 150,
   "id": "6a5eafc9",
   "metadata": {},
   "outputs": [
    {
     "data": {
      "text/plain": [
       "array([[0.64619073, 0.35380927],\n",
       "       [0.12049453, 0.87950547],\n",
       "       [0.31236972, 0.68763028],\n",
       "       ...,\n",
       "       [0.56692261, 0.43307739],\n",
       "       [0.38244522, 0.61755478],\n",
       "       [0.32679194, 0.67320806]])"
      ]
     },
     "execution_count": 150,
     "metadata": {},
     "output_type": "execute_result"
    }
   ],
   "source": [
    "pipe.predict_proba(df)"
   ]
  },
  {
   "cell_type": "code",
   "execution_count": 101,
   "id": "d36ef302",
   "metadata": {},
   "outputs": [],
   "source": [
    "propensity = pipe.predict_proba(df)[:, -1]\n",
    "df['propensity'] = propensity"
   ]
  },
  {
   "cell_type": "code",
   "execution_count": 102,
   "id": "7633b12a",
   "metadata": {},
   "outputs": [
    {
     "data": {
      "text/plain": [
       "NearestNeighbors(n_neighbors=1)"
      ]
     },
     "execution_count": 102,
     "metadata": {},
     "output_type": "execute_result"
    }
   ],
   "source": [
    "knn = NearestNeighbors(n_neighbors=1)\n",
    "male = df[df.Gender=='M']\n",
    "female = df[df.Gender=='F']\n",
    "\n",
    "x = ct.transform(male)\n",
    "knn.fit(x)"
   ]
  },
  {
   "cell_type": "code",
   "execution_count": 107,
   "id": "768b50c3",
   "metadata": {},
   "outputs": [],
   "source": [
    "x = ct.transform(female)\n",
    "neigh_dist, neigh_ind = knn.kneighbors(x)"
   ]
  },
  {
   "cell_type": "code",
   "execution_count": 128,
   "id": "4ca41d9b",
   "metadata": {},
   "outputs": [],
   "source": [
    "s1 = female"
   ]
  },
  {
   "cell_type": "code",
   "execution_count": 129,
   "id": "b7f893fe",
   "metadata": {},
   "outputs": [],
   "source": [
    "s2 = male.iloc[neigh_ind.reshape(-1)]"
   ]
  },
  {
   "cell_type": "code",
   "execution_count": 130,
   "id": "8d07023e",
   "metadata": {},
   "outputs": [
    {
     "data": {
      "text/plain": [
       "PCA(n_components=2)"
      ]
     },
     "execution_count": 130,
     "metadata": {},
     "output_type": "execute_result"
    }
   ],
   "source": [
    "pca = PCA(n_components=2)\n",
    "pca.fit(df[[str(i) for i in range(1, 26)]])"
   ]
  },
  {
   "cell_type": "code",
   "execution_count": 132,
   "id": "06334b08",
   "metadata": {},
   "outputs": [],
   "source": [
    "xs1 = pca.transform(s1[[str(i) for i in range(1, 26)]])\n",
    "xs2 = pca.transform(s2[[str(i) for i in range(1, 26)]])"
   ]
  },
  {
   "cell_type": "code",
   "execution_count": 135,
   "id": "9debe094",
   "metadata": {},
   "outputs": [
    {
     "data": {
      "text/plain": [
       "<matplotlib.collections.PathCollection at 0x21733cc3670>"
      ]
     },
     "execution_count": 135,
     "metadata": {},
     "output_type": "execute_result"
    },
    {
     "data": {
      "image/png": "[encoded data removed]",
      "text/plain": [
       "<Figure size 432x288 with 1 Axes>"
      ]
     },
     "metadata": {
      "needs_background": "light"
     },
     "output_type": "display_data"
    }
   ],
   "source": [
    "fig, ax = plt.subplots()\n",
    "ax.scatter(xs1[:,0], xs1[:,1], color='red', alpha=.4)\n",
    "ax.scatter(xs2[:,0], xs2[:,1], color='blue', alpha=.4)"
   ]
  },
  {
   "cell_type": "code",
   "execution_count": 142,
   "id": "c5f5abb0",
   "metadata": {},
   "outputs": [],
   "source": [
    "import scipy.stats as stats\n",
    "\n",
    "a, p_values = stats.ttest_rel(s1[[str(i) for i in range(1, 26)]], s2[[str(i) for i in range(1, 26)]])"
   ]
  },
  {
   "cell_type": "code",
   "execution_count": 149,
   "id": "869a7fd9",
   "metadata": {},
   "outputs": [
    {
     "data": {
      "text/plain": [
       "(array([11, 15], dtype=int64),)"
      ]
     },
     "execution_count": 149,
     "metadata": {},
     "output_type": "execute_result"
    }
   ],
   "source": [
    "np.set_printoptions(suppress=True)\n",
    "np.where(p_values < 0.002)"
   ]
  },
  {
   "cell_type": "markdown",
   "id": "db7b31ad",
   "metadata": {},
   "source": [
    "##### Age"
   ]
  },
  {
   "cell_type": "code",
   "execution_count": 159,
   "id": "ba6a6775",
   "metadata": {},
   "outputs": [],
   "source": [
    "clf = LogisticRegression()\n",
    "\n",
    "ct = ColumnTransformer([\n",
    "    ('one hot', OneHotEncoder(), ['CurrentPartyCode', 'Profession', 'Education', 'Gender'])\n",
    "])\n",
    "\n",
    "pipe = Pipeline([\n",
    "    ('column transformer', ct), \n",
    "    ('logistic reg', clf)\n",
    "])\n"
   ]
  },
  {
   "cell_type": "code",
   "execution_count": 160,
   "id": "bf1a6971",
   "metadata": {},
   "outputs": [],
   "source": [
    "y = (df.age < 30).astype(int)"
   ]
  },
  {
   "cell_type": "code",
   "execution_count": 162,
   "id": "92e481db",
   "metadata": {},
   "outputs": [
    {
     "data": {
      "text/plain": [
       "Pipeline(steps=[('column transformer',\n",
       "                 ColumnTransformer(transformers=[('one hot', OneHotEncoder(),\n",
       "                                                  ['CurrentPartyCode',\n",
       "                                                   'Profession', 'Education',\n",
       "                                                   'Gender'])])),\n",
       "                ('logistic reg', LogisticRegression())])"
      ]
     },
     "execution_count": 162,
     "metadata": {},
     "output_type": "execute_result"
    }
   ],
   "source": [
    "pipe.fit(df, y)"
   ]
  },
  {
   "cell_type": "code",
   "execution_count": 156,
   "id": "71bbfe71",
   "metadata": {
    "collapsed": true
   },
   "outputs": [
    {
     "data": {
      "text/plain": [
       "[<matplotlib.lines.Line2D at 0x2173881aa60>]"
      ]
     },
     "execution_count": 156,
     "metadata": {},
     "output_type": "execute_result"
    },
    {
     "data": {
      "image/png": "[encoded data removed]",
      "text/plain": [
       "<Figure size 432x288 with 1 Axes>"
      ]
     },
     "metadata": {
      "needs_background": "light"
     },
     "output_type": "display_data"
    }
   ],
   "source": [
    "fig, ax = plt.subplots()\n",
    "\n",
    "x = np.linspace(0, 1, 1000)\n",
    "y = df.age.quantile(x)\n",
    "\n",
    "ax.plot(y,x)"
   ]
  },
  {
   "cell_type": "code",
   "execution_count": 163,
   "id": "56aa7f48",
   "metadata": {},
   "outputs": [],
   "source": [
    "propensity = pipe.predict_proba(df)[:, -1]\n",
    "df['propensity'] = propensity"
   ]
  },
  {
   "cell_type": "code",
   "execution_count": 165,
   "id": "f35f17d6",
   "metadata": {},
   "outputs": [
    {
     "data": {
      "text/plain": [
       "NearestNeighbors(n_neighbors=1)"
      ]
     },
     "execution_count": 165,
     "metadata": {},
     "output_type": "execute_result"
    }
   ],
   "source": [
    "knn = NearestNeighbors(n_neighbors=1)\n",
    "ung = df[df.age < 30]\n",
    "gammel = df[df.age >= 30]\n",
    "\n",
    "x = ct.transform(ung)\n",
    "knn.fit(x)"
   ]
  },
  {
   "cell_type": "code",
   "execution_count": 166,
   "id": "0eab4cc9",
   "metadata": {},
   "outputs": [],
   "source": [
    "x = ct.transform(gammel)\n",
    "neigh_dist, neigh_ind = knn.kneighbors(x)"
   ]
  },
  {
   "cell_type": "code",
   "execution_count": 171,
   "id": "0a179dac",
   "metadata": {
    "scrolled": true
   },
   "outputs": [],
   "source": [
    "s1 = ung.iloc[neigh_ind.reshape(-1)]"
   ]
  },
  {
   "cell_type": "code",
   "execution_count": 172,
   "id": "2b3b0f70",
   "metadata": {},
   "outputs": [],
   "source": [
    "s2 = gammel"
   ]
  },
  {
   "cell_type": "code",
   "execution_count": 173,
   "id": "d5e26a77",
   "metadata": {},
   "outputs": [],
   "source": [
    "a, p_values = stats.ttest_rel(s1[[str(i) for i in range(1, 26)]], s2[[str(i) for i in range(1, 26)]])"
   ]
  },
  {
   "cell_type": "code",
   "execution_count": 197,
   "id": "621e75f7",
   "metadata": {},
   "outputs": [
    {
     "data": {
      "text/plain": [
       "(25,)"
      ]
     },
     "execution_count": 197,
     "metadata": {},
     "output_type": "execute_result"
    }
   ],
   "source": [
    "p_values.shape"
   ]
  },
  {
   "cell_type": "code",
   "execution_count": 194,
   "id": "f3b7ad6d",
   "metadata": {},
   "outputs": [
    {
     "data": {
      "text/plain": [
       "array([ 3,  4,  5,  8, 12, 13, 14, 15, 16, 17, 22], dtype=int64)"
      ]
     },
     "execution_count": 194,
     "metadata": {},
     "output_type": "execute_result"
    }
   ],
   "source": [
    "np.where(p_values < 0.002)[0]"
   ]
  },
  {
   "cell_type": "code",
   "execution_count": 185,
   "id": "00544027",
   "metadata": {},
   "outputs": [],
   "source": [
    "treat = s1[[str(i) for i in range(1, 26)]].to_numpy()\n",
    "control = s2[[str(i) for i in range(1, 26)]].to_numpy()"
   ]
  },
  {
   "cell_type": "code",
   "execution_count": 195,
   "id": "2e701cd1",
   "metadata": {},
   "outputs": [
    {
     "data": {
      "image/png": "[encoded data removed]",
      "text/plain": [
       "<Figure size 432x720 with 50 Axes>"
      ]
     },
     "metadata": {
      "needs_background": "light"
     },
     "output_type": "display_data"
    }
   ],
   "source": [
    "fig, axes = plt.subplots(25, 2, figsize=(6, 10))\n",
    "\n",
    "for i in range(25):\n",
    "    ax = axes[i]\n",
    "    ax[0].hist(treat[:,i], color='red', alpha=.4, bins=5, density=True)\n",
    "    ax[1].hist(control[:,i], color='blue', alpha=.4, bins=5, density=True)"
   ]
  }
 ],
 "metadata": {
  "kernelspec": {
   "display_name": "Python 3 (ipykernel)",
   "language": "python",
   "name": "python3"
  },
  "language_info": {
   "codemirror_mode": {
    "name": "ipython",
    "version": 3
   },
   "file_extension": ".py",
   "mimetype": "text/x-python",
   "name": "python",
   "nbconvert_exporter": "python",
   "pygments_lexer": "ipython3",
   "version": "3.9.7"
  }
 },
 "nbformat": 4,
 "nbformat_minor": 5
}
