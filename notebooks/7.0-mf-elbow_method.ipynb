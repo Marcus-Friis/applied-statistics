{
 "cells": [
  {
   "cell_type": "code",
   "execution_count": 71,
   "id": "f6805737",
   "metadata": {},
   "outputs": [],
   "source": [
    "import pandas as pd\n",
    "import numpy as np\n",
    "import matplotlib.pyplot as plt\n",
    "import seaborn as sns\n",
    "from sklearn.cluster import KMeans\n",
    "from sklearn.decomposition import PCA\n",
    "from sklearn import metrics\n",
    "from scipy.spatial.distance import cdist\n",
    "\n",
    "import warnings\n",
    "warnings.filterwarnings('ignore')"
   ]
  },
  {
   "cell_type": "code",
   "execution_count": 2,
   "id": "23463b12",
   "metadata": {},
   "outputs": [],
   "source": [
    "plt.style.use('ggplot')"
   ]
  },
  {
   "cell_type": "code",
   "execution_count": 3,
   "id": "b00bf90d",
   "metadata": {},
   "outputs": [],
   "source": [
    "df = pd.read_csv('../data/kandidater_data.csv').dropna()"
   ]
  },
  {
   "cell_type": "code",
   "execution_count": 95,
   "id": "fccba392",
   "metadata": {},
   "outputs": [],
   "source": [
    "def within_cluster_scatter(X, cluster_centers):\n",
    "    return sum(np.min(cdist(X, cluster_centers, 'euclidean'), axis=1)) / X.shape[0]"
   ]
  },
  {
   "cell_type": "code",
   "execution_count": 96,
   "id": "70b2656d",
   "metadata": {},
   "outputs": [
    {
     "name": "stdout",
     "output_type": "stream",
     "text": [
      "1\n",
      "2\n",
      "3\n",
      "4\n",
      "5\n",
      "6\n",
      "7\n",
      "8\n",
      "9\n",
      "10\n",
      "11\n",
      "12\n",
      "13\n",
      "14\n",
      "15\n",
      "16\n",
      "17\n",
      "18\n",
      "19\n",
      "20\n",
      "21\n",
      "22\n",
      "23\n",
      "24\n"
     ]
    }
   ],
   "source": [
    "# prepare data\n",
    "X = df[[str(i) for i in range(1, 26)]].to_numpy()\n",
    "\n",
    "# generate null model\n",
    "np.random.seed(69420)\n",
    "B = 100\n",
    "n_samples = X.shape[0] // 2\n",
    "\n",
    "Xn = np.random.choice([-2, -1, 1, 2], size=(B, n_samples, 25))\n",
    "# Xn = np.random.randint(-2, 3, size=(B, n_samples, 25))\n",
    "# idx = np.random.randint(X.shape[0], size=(B, n_samples))\n",
    "# Xn = X[idx]\n",
    "\n",
    "\n",
    "# within cluster scatter lists\n",
    "X_wcs = []\n",
    "Xn_wcs = [[] for _ in range(B)]\n",
    "\n",
    "K = 25\n",
    "for k in range(1, 25):\n",
    "    print(k)\n",
    "\n",
    "    # true data\n",
    "    kmeanModel = KMeans(n_clusters=k, random_state=0)\n",
    "    kmeanModel.fit(X)\n",
    "\n",
    "    wcs = within_cluster_scatter(X, kmeanModel.cluster_centers_)\n",
    "    X_wcs.append(wcs)\n",
    "    \n",
    "    # null model\n",
    "    for i in range(B):\n",
    "        n = Xn[i]\n",
    "        kmeanModel = KMeans(n_clusters=k, random_state=0)\n",
    "        kmeanModel.fit(n)\n",
    "\n",
    "        wcs = within_cluster_scatter(n, kmeanModel.cluster_centers_)\n",
    "        Xn_wcs[i].append(wcs)"
   ]
  },
  {
   "cell_type": "code",
   "execution_count": 153,
   "id": "7304aa6e",
   "metadata": {},
   "outputs": [
    {
     "data": {
      "text/plain": [
       "396"
      ]
     },
     "execution_count": 153,
     "metadata": {},
     "output_type": "execute_result"
    }
   ],
   "source": [
    "n_samples"
   ]
  },
  {
   "cell_type": "code",
   "execution_count": 110,
   "id": "ff545b29",
   "metadata": {},
   "outputs": [
    {
     "data": {
      "text/plain": [
       "<matplotlib.legend.Legend at 0x1fdc29cb550>"
      ]
     },
     "execution_count": 110,
     "metadata": {},
     "output_type": "execute_result"
    },
    {
     "data": {
      "image/png": "[encoded data removed]",
      "text/plain": [
       "<Figure size 576x288 with 1 Axes>"
      ]
     },
     "metadata": {
      "needs_background": "light"
     },
     "output_type": "display_data"
    }
   ],
   "source": [
    "true_means = df.groupby('CurrentPartyCode').agg(\n",
    "    {str(i): 'mean' for i in range(1, 26)}\n",
    ").to_numpy()\n",
    "true_gap = within_cluster_scatter(X, true_means)\n",
    "\n",
    "x = np.arange(1, K)\n",
    "Wk = np.array(X_wcs)\n",
    "Wkb = np.array(Xn_wcs)\n",
    "Wkb_mean = np.mean(Wkb, axis=0)\n",
    "Wkb_std = np.std(Wkb, axis=0)\n",
    "sks = Wkb_std * np.sqrt(1 + 1/B)\n",
    "\n",
    "fig, ax = plt.subplots(figsize=(8,4))\n",
    "\n",
    "# ax.set_ylim(3,8)\n",
    "ax.set_title('Within cluster scatter for different k in K-Means')\n",
    "ax.set_xlabel('K clusters')\n",
    "ax.set_ylabel('')\n",
    "ax.set_xticks(x[::2])\n",
    "\n",
    "ax.plot(x, Wk, alpha=.7, label='Original data')\n",
    "ax.plot(x, Wkb_mean, alpha=.7, label='Mean of null models')\n",
    "\n",
    "ax.scatter(x, Wk)\n",
    "ax.scatter(x, Wkb_mean)\n",
    "\n",
    "ax.set_ylabel('Within cluster scatter')\n",
    "ax.axhline(true_gap, color='black', alpha=.4, label='True parties', linestyle='--')\n",
    "ax.axvline(14, color='black', alpha=.4, linestyle='--')\n",
    "ax.legend()"
   ]
  },
  {
   "cell_type": "code",
   "execution_count": 111,
   "id": "73fafd1a",
   "metadata": {},
   "outputs": [],
   "source": [
    "fig.savefig('../figs/elbow.svg')"
   ]
  },
  {
   "cell_type": "code",
   "execution_count": 158,
   "id": "d86ea028",
   "metadata": {},
   "outputs": [
    {
     "data": {
      "image/png": "[encoded data removed]",
      "text/plain": [
       "<Figure size 432x288 with 1 Axes>"
      ]
     },
     "metadata": {
      "needs_background": "light"
     },
     "output_type": "display_data"
    }
   ],
   "source": [
    "gap = np.mean(np.log(Wkb), axis=0) - np.log(Wk)\n",
    "\n",
    "fig, ax = plt.subplots()\n",
    "ax.errorbar(x, gap, yerr=sks/2, fmt='.', capsize=2, color='black')\n",
    "# ax.scatter(x, gap)\n",
    "ax.plot(x, gap, color='black')\n",
    "\n",
    "ax.set_xlabel('K clusters')\n",
    "ax.set_ylabel('Gap')\n",
    "ax.set_title('Gap statistic over K clusters')\n",
    "\n",
    "ax.set_xticks(x[::2]);"
   ]
  },
  {
   "cell_type": "code",
   "execution_count": 159,
   "id": "7114af2d",
   "metadata": {},
   "outputs": [
    {
     "data": {
      "text/plain": [
       "array([0.0278363 , 0.02714553, 0.02827177, 0.02870599, 0.02832993,\n",
       "       0.02827314, 0.02829609, 0.02797008, 0.02836138, 0.02853307,\n",
       "       0.02855716, 0.02941537, 0.02843938, 0.02786272, 0.02947201,\n",
       "       0.02905112, 0.02998374, 0.02872651, 0.0298735 , 0.02891869,\n",
       "       0.0288885 , 0.02815691, 0.02820089, 0.02645056])"
      ]
     },
     "execution_count": 159,
     "metadata": {},
     "output_type": "execute_result"
    }
   ],
   "source": [
    "sks"
   ]
  },
  {
   "cell_type": "code",
   "execution_count": 157,
   "id": "5312cf92",
   "metadata": {},
   "outputs": [
    {
     "name": "stdout",
     "output_type": "stream",
     "text": [
      "5\n",
      "6\n",
      "7\n",
      "8\n",
      "9\n",
      "10\n",
      "11\n",
      "12\n",
      "13\n",
      "14\n",
      "15\n",
      "16\n",
      "17\n",
      "18\n",
      "19\n",
      "20\n",
      "21\n",
      "22\n",
      "23\n"
     ]
    }
   ],
   "source": [
    "for i in range(23):\n",
    "    if gap[i] >= gap[i+1] - sks[i+1]:\n",
    "        print(i+1)\n"
   ]
  },
  {
   "cell_type": "code",
   "execution_count": 160,
   "id": "c7d78fbe",
   "metadata": {},
   "outputs": [],
   "source": [
    "fig.savefig('../figs/gap_statistic.svg')"
   ]
  }
 ],
 "metadata": {
  "kernelspec": {
   "display_name": "Python 3.9.7 ('base')",
   "language": "python",
   "name": "python3"
  },
  "language_info": {
   "codemirror_mode": {
    "name": "ipython",
    "version": 3
   },
   "file_extension": ".py",
   "mimetype": "text/x-python",
   "name": "python",
   "nbconvert_exporter": "python",
   "pygments_lexer": "ipython3",
   "version": "3.9.7"
  },
  "vscode": {
   "interpreter": {
    "hash": "7ad2d2b061933ccb46f02c21d4dc257a7efb561c7355abd71f7246fa8dd772fc"
   }
  }
 },
 "nbformat": 4,
 "nbformat_minor": 5
}
