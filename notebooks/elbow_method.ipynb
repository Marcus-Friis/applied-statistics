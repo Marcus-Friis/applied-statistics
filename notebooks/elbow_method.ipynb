{
 "cells": [
  {
   "cell_type": "code",
   "execution_count": 1,
   "id": "f6805737",
   "metadata": {},
   "outputs": [],
   "source": [
    "import pandas as pd\n",
    "import numpy as np\n",
    "import matplotlib.pyplot as plt\n",
    "import seaborn as sns\n",
    "from sklearn.cluster import KMeans\n",
    "from sklearn.decomposition import PCA\n",
    "from sklearn import metrics\n",
    "from scipy.spatial.distance import cdist"
   ]
  },
  {
   "cell_type": "code",
   "execution_count": 2,
   "id": "23463b12",
   "metadata": {},
   "outputs": [],
   "source": [
    "plt.style.use('ggplot')"
   ]
  },
  {
   "cell_type": "code",
   "execution_count": 3,
   "id": "b00bf90d",
   "metadata": {},
   "outputs": [],
   "source": [
    "df = pd.read_csv('../data/kandidater_data.csv').dropna()"
   ]
  },
  {
   "cell_type": "code",
   "execution_count": 4,
   "id": "2c7a5e65",
   "metadata": {},
   "outputs": [],
   "source": [
    "pca = PCA(n_components=2)\n",
    "df[['pca1', 'pca2']] = pca.fit_transform(df[[str(i) for i in range(1, 26)]])"
   ]
  },
  {
   "cell_type": "code",
   "execution_count": 5,
   "id": "3036dece",
   "metadata": {},
   "outputs": [
    {
     "name": "stderr",
     "output_type": "stream",
     "text": [
      "c:\\Users\\marcu\\anaconda3\\lib\\site-packages\\sklearn\\cluster\\_kmeans.py:881: UserWarning: KMeans is known to have a memory leak on Windows with MKL, when there are less chunks than available threads. You can avoid it by setting the environment variable OMP_NUM_THREADS=4.\n",
      "  warnings.warn(\n"
     ]
    }
   ],
   "source": [
    "X = df[[str(i) for i in range(1, 26)]]\n",
    "for k in range(1, 20):\n",
    "    clf = KMeans(n_clusters=k).fit(X)\n",
    "    labels = clf.predict(X)\n",
    "    df[f'k_{k}'] = labels\n",
    "    "
   ]
  },
  {
   "cell_type": "code",
   "execution_count": 6,
   "id": "5edd5409",
   "metadata": {},
   "outputs": [
    {
     "name": "stderr",
     "output_type": "stream",
     "text": [
      "c:\\Users\\marcu\\anaconda3\\lib\\site-packages\\sklearn\\cluster\\_kmeans.py:881: UserWarning: KMeans is known to have a memory leak on Windows with MKL, when there are less chunks than available threads. You can avoid it by setting the environment variable OMP_NUM_THREADS=4.\n",
      "  warnings.warn(\n",
      "c:\\Users\\marcu\\anaconda3\\lib\\site-packages\\sklearn\\cluster\\_kmeans.py:881: UserWarning: KMeans is known to have a memory leak on Windows with MKL, when there are less chunks than available threads. You can avoid it by setting the environment variable OMP_NUM_THREADS=4.\n",
      "  warnings.warn(\n"
     ]
    }
   ],
   "source": [
    "distortions = []\n",
    "inertias = []\n",
    "mapping1 = {}\n",
    "mapping2 = {}\n",
    "\n",
    "np.random.seed(69420)\n",
    "xr = np.random.randint(-2, 3, size=(10000, 25))\n",
    "rdistortions = []\n",
    "rinertias = []\n",
    "rmapping1 = {}\n",
    "rmapping2 = {}\n",
    "\n",
    "K = range(1, 20)\n",
    "  \n",
    "for k in K:\n",
    "    # Building and fitting the model\n",
    "    kmeanModel = KMeans(n_clusters=k).fit(X)\n",
    "    kmeanModel.fit(X)\n",
    "  \n",
    "    distortions.append(sum(np.min(cdist(X, kmeanModel.cluster_centers_,\n",
    "                                        'euclidean'), axis=1)) / X.shape[0])\n",
    "    inertias.append(kmeanModel.inertia_)\n",
    "  \n",
    "    mapping1[k] = sum(np.min(cdist(X, kmeanModel.cluster_centers_,\n",
    "                                   'euclidean'), axis=1)) / X.shape[0]\n",
    "    mapping2[k] = kmeanModel.inertia_\n",
    "\n",
    "\n",
    "    # Building and fitting the model\n",
    "    rkmeanModel = KMeans(n_clusters=k).fit(xr)\n",
    "    rkmeanModel.fit(xr)\n",
    "  \n",
    "    rdistortions.append(sum(np.min(cdist(xr, rkmeanModel.cluster_centers_,\n",
    "                                        'euclidean'), axis=1)) / xr.shape[0])\n",
    "    rinertias.append(rkmeanModel.inertia_)\n",
    "  \n",
    "    rmapping1[k] = sum(np.min(cdist(xr, rkmeanModel.cluster_centers_,\n",
    "                                   'euclidean'), axis=1)) / xr.shape[0]\n",
    "    rmapping2[k] = rkmeanModel.inertia_"
   ]
  },
  {
   "cell_type": "code",
   "execution_count": 10,
   "id": "6c8c5be0",
   "metadata": {},
   "outputs": [
    {
     "data": {
      "text/plain": [
       "<matplotlib.legend.Legend at 0x1dc3de02130>"
      ]
     },
     "execution_count": 10,
     "metadata": {},
     "output_type": "execute_result"
    },
    {
     "data": {
      "image/png": "[encoded data removed]",
      "text/plain": [
       "<Figure size 576x288 with 1 Axes>"
      ]
     },
     "metadata": {
      "needs_background": "light"
     },
     "output_type": "display_data"
    }
   ],
   "source": [
    "true_means = df.groupby('CurrentPartyCode').agg(\n",
    "    {str(i): 'mean' for i in range(1, 26)}\n",
    ").to_numpy()\n",
    "true_gap = sum(np.min(cdist(X, true_means, 'euclidean'), axis=1)) / X.shape[0]\n",
    "\n",
    "a = list(mapping1.keys())\n",
    "b = list(mapping1.values())\n",
    "\n",
    "ra = list(rmapping1.keys())\n",
    "rb = list(rmapping1.values())\n",
    "\n",
    "fig, ax = plt.subplots(figsize=(8,4))\n",
    "\n",
    "ax.set_ylim(3,8)\n",
    "ax.set_title('Within cluster scatter for different k in K-Means')\n",
    "ax.set_xlabel('K clusters')\n",
    "ax.set_ylabel('')\n",
    "ax.set_xticks(range(0,20,2))\n",
    "\n",
    "ax.spines['top'].set_visible(False)\n",
    "ax.spines['right'].set_visible(False)\n",
    "\n",
    "ax.plot(a,b, alpha=.7, label='Original data')\n",
    "ax.plot(ra,rb, alpha=.7, label='Uniform model')\n",
    "\n",
    "ax.scatter(a,b)\n",
    "ax.scatter(ra,rb)\n",
    "\n",
    "ax.set_ylabel('Within cluster scatter')\n",
    "ax.axhline(true_gap, color='black', alpha=.4, label='True parties', linestyle='--')\n",
    "ax.axvline(14, color='black', alpha=.4, linestyle='--')\n",
    "ax.legend()"
   ]
  },
  {
   "cell_type": "code",
   "execution_count": 11,
   "id": "73fafd1a",
   "metadata": {},
   "outputs": [],
   "source": [
    "fig.savefig('../figs/elbow.svg')"
   ]
  },
  {
   "cell_type": "code",
   "execution_count": 8,
   "id": "02c479de",
   "metadata": {},
   "outputs": [
    {
     "data": {
      "text/plain": [
       "[<matplotlib.lines.Line2D at 0x1dc30ce0bb0>]"
      ]
     },
     "execution_count": 8,
     "metadata": {},
     "output_type": "execute_result"
    },
    {
     "data": {
      "image/png": "[encoded data removed]",
      "text/plain": [
       "<Figure size 432x288 with 1 Axes>"
      ]
     },
     "metadata": {
      "needs_background": "light"
     },
     "output_type": "display_data"
    }
   ],
   "source": [
    "plt.plot(a, np.array(b) - np.array(rb))"
   ]
  },
  {
   "cell_type": "code",
   "execution_count": null,
   "id": "6f686f91",
   "metadata": {},
   "outputs": [],
   "source": []
  }
 ],
 "metadata": {
  "kernelspec": {
   "display_name": "Python 3.9.7 ('base')",
   "language": "python",
   "name": "python3"
  },
  "language_info": {
   "codemirror_mode": {
    "name": "ipython",
    "version": 3
   },
   "file_extension": ".py",
   "mimetype": "text/x-python",
   "name": "python",
   "nbconvert_exporter": "python",
   "pygments_lexer": "ipython3",
   "version": "3.9.7"
  },
  "vscode": {
   "interpreter": {
    "hash": "7ad2d2b061933ccb46f02c21d4dc257a7efb561c7355abd71f7246fa8dd772fc"
   }
  }
 },
 "nbformat": 4,
 "nbformat_minor": 5
}
