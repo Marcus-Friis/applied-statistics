{
 "cells": [
  {
   "cell_type": "code",
   "execution_count": 75,
   "id": "5e9b577c",
   "metadata": {},
   "outputs": [],
   "source": [
    "import random\n",
    "import pandas as pd\n",
    "import numpy as np\n",
    "import matplotlib.pyplot as plt\n",
    "from sklearn.linear_model import LogisticRegression\n",
    "from sklearn.neighbors import NearestNeighbors\n",
    "from sklearn.preprocessing import OneHotEncoder, MinMaxScaler\n",
    "from sklearn.pipeline import Pipeline\n",
    "from sklearn.compose import ColumnTransformer\n",
    "from sklearn.decomposition import PCA\n",
    "import scipy.stats as stats\n",
    "colormap = {'A': '#A82721', \n",
    "            'O': '#EAC73E', \n",
    "            'V': '#254264', \n",
    "            'Ø': '#E6801A', \n",
    "            'I': '#3FB2BE', \n",
    "            'Å': '#2B8738', \n",
    "            'B': '#733280', \n",
    "            'F': '#E07EA8', \n",
    "            'C': '#96B226', \n",
    "            'D': '#127B7F', \n",
    "            'K': '#8B8474', \n",
    "            'Q': '#C49414', \n",
    "            'M': '#832B93', \n",
    "            'Æ': '#2C5877'}\n"
   ]
  },
  {
   "cell_type": "code",
   "execution_count": 59,
   "id": "40de809e",
   "metadata": {},
   "outputs": [],
   "source": [
    "# df = pd.read_csv('../data/kandidater_data.csv').dropna()\n",
    "# df = df.assign(new_column=df[\"Gender\"].map({\"M\": 0, \"F\": 2.0}))\n",
    "# df.rename(columns = {\"new_column\":\"26\"}, inplace = True)\n",
    "# df['age'] = 2022 - df.Birthdate.str[:4].astype(int)"
   ]
  },
  {
   "cell_type": "code",
   "execution_count": 108,
   "id": "cb98d990",
   "metadata": {},
   "outputs": [],
   "source": [
    "df = pd.read_csv('../data/kandidater_data.csv').dropna()\n",
    "df = df.assign(\n",
    "    new_column=df[\"Gender\"].map(\n",
    "        lambda x: 0 if x == \"male\" else random.choices([2, 0], weights=[0.5, 0.5])[0]\n",
    "    )\n",
    ")\n",
    "df.rename(columns = {\"new_column\":\"26\"}, inplace = True)\n",
    "df['age'] = 2022 - df.Birthdate.str[:4].astype(int)"
   ]
  },
  {
   "cell_type": "code",
   "execution_count": 109,
   "id": "ca8c7c89",
   "metadata": {},
   "outputs": [],
   "source": [
    "clf = LogisticRegression()\n",
    "\n",
    "ct = ColumnTransformer([\n",
    "    ('scaler', MinMaxScaler(), ['age']),\n",
    "    ('one hot', OneHotEncoder(), ['CurrentPartyCode', 'Profession', 'Education'])\n",
    "])\n",
    "\n",
    "pipe = Pipeline([\n",
    "    ('column transformer', ct), \n",
    "    ('logistic reg', clf)\n",
    "])\n"
   ]
  },
  {
   "cell_type": "code",
   "execution_count": 110,
   "id": "57a34134",
   "metadata": {},
   "outputs": [],
   "source": [
    "y = df.Gender.map({'M': 1, 'F': 0}).to_numpy()"
   ]
  },
  {
   "cell_type": "code",
   "execution_count": 111,
   "id": "5ba8b270",
   "metadata": {},
   "outputs": [
    {
     "data": {
      "text/plain": [
       "array([[0.64619073, 0.35380927],\n",
       "       [0.12049453, 0.87950547],\n",
       "       [0.31236972, 0.68763028],\n",
       "       ...,\n",
       "       [0.56692261, 0.43307739],\n",
       "       [0.38244522, 0.61755478],\n",
       "       [0.32679194, 0.67320806]])"
      ]
     },
     "execution_count": 111,
     "metadata": {},
     "output_type": "execute_result"
    }
   ],
   "source": [
    "pipe.fit(df, y)\n",
    "pipe.predict_proba(df)"
   ]
  },
  {
   "cell_type": "code",
   "execution_count": 112,
   "id": "9ec744e7",
   "metadata": {},
   "outputs": [],
   "source": [
    "propensity = pipe.predict_proba(df)[:, -1]\n",
    "df['propensity'] = propensity"
   ]
  },
  {
   "cell_type": "code",
   "execution_count": 113,
   "id": "9e97df0c",
   "metadata": {},
   "outputs": [
    {
     "data": {
      "text/plain": [
       "NearestNeighbors(n_neighbors=1)"
      ]
     },
     "execution_count": 113,
     "metadata": {},
     "output_type": "execute_result"
    }
   ],
   "source": [
    "knn = NearestNeighbors(n_neighbors=1)\n",
    "male = df[df.Gender=='M']\n",
    "female = df[df.Gender=='F']\n",
    "\n",
    "x = ct.transform(male.iloc[:, :-1])\n",
    "knn.fit(x)"
   ]
  },
  {
   "cell_type": "code",
   "execution_count": 114,
   "id": "e8ab9ec4",
   "metadata": {},
   "outputs": [],
   "source": [
    "x = ct.transform(female.iloc[:, :-1])\n",
    "neigh_dist, neigh_ind = knn.kneighbors(x)"
   ]
  },
  {
   "cell_type": "code",
   "execution_count": 115,
   "id": "36b686d8",
   "metadata": {},
   "outputs": [],
   "source": [
    "s1 = female\n",
    "s2 = male.iloc[neigh_ind.reshape(-1)]"
   ]
  },
  {
   "cell_type": "code",
   "execution_count": 116,
   "id": "188f16f2",
   "metadata": {},
   "outputs": [],
   "source": [
    "pca = PCA(n_components=2)\n",
    "pca.fit(df[[str(i) for i in range(1, 27)]])\n",
    "\n",
    "xs1 = pca.transform(s1[[str(i) for i in range(1, 27)]])\n",
    "xs2 = pca.transform(s2[[str(i) for i in range(1, 27)]])"
   ]
  },
  {
   "cell_type": "code",
   "execution_count": 118,
   "id": "b7a1a778",
   "metadata": {},
   "outputs": [],
   "source": [
    "a, p_values = stats.ttest_rel(s1[[str(i) for i in range(1, 27)]], s2[[str(i) for i in range(1, 27)]])"
   ]
  },
  {
   "cell_type": "code",
   "execution_count": 119,
   "id": "bc6cc75e",
   "metadata": {},
   "outputs": [
    {
     "data": {
      "text/plain": [
       "(array([11, 15], dtype=int64),)"
      ]
     },
     "execution_count": 119,
     "metadata": {},
     "output_type": "execute_result"
    }
   ],
   "source": [
    "np.set_printoptions(suppress=True)\n",
    "np.where(p_values < 0.002)"
   ]
  }
 ],
 "metadata": {
  "kernelspec": {
   "display_name": "Python 3 (ipykernel)",
   "language": "python",
   "name": "python3"
  },
  "language_info": {
   "codemirror_mode": {
    "name": "ipython",
    "version": 3
   },
   "file_extension": ".py",
   "mimetype": "text/x-python",
   "name": "python",
   "nbconvert_exporter": "python",
   "pygments_lexer": "ipython3",
   "version": "3.7.12"
  }
 },
 "nbformat": 4,
 "nbformat_minor": 5
}
