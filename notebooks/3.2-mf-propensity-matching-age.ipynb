{
 "cells": [
  {
   "cell_type": "code",
   "execution_count": 1,
   "metadata": {},
   "outputs": [],
   "source": [
    "import pandas as pd\n",
    "import numpy as np\n",
    "import matplotlib.pyplot as plt\n",
    "import seaborn as sns\n",
    "from sklearn.linear_model import LogisticRegression\n",
    "from sklearn.neighbors import NearestNeighbors\n",
    "from sklearn.preprocessing import OneHotEncoder, MinMaxScaler\n",
    "from sklearn.pipeline import Pipeline\n",
    "from sklearn.compose import ColumnTransformer\n",
    "from sklearn.decomposition import PCA\n",
    "import random\n",
    "\n",
    "import scipy.stats as stats"
   ]
  },
  {
   "cell_type": "code",
   "execution_count": 2,
   "metadata": {},
   "outputs": [],
   "source": [
    "df = pd.read_csv('../data/kandidater_data.csv').dropna()"
   ]
  },
  {
   "cell_type": "code",
   "execution_count": 3,
   "metadata": {},
   "outputs": [],
   "source": [
    "# gender dummy question\n",
    "df['26'] = df[\"Gender\"].map(lambda x: -2 if x == \"M\" else 2) # random.choices([2, -2], weights=[0.5, 0.5])[0]\n",
    "\n",
    "# age dummy question\n",
    "df['Age'] = 2022 - df.Birthdate.str[:4].astype(int)\n",
    "df['27'] = df['Age'].map(lambda x: 0 if x <= 30 else 2)\n",
    "\n",
    "# block dummy question\n",
    "blok_dict = {\n",
    "    'A': 1,\n",
    "    'Ø': 1,\n",
    "    'F': 1,\n",
    "    'Å': 1,\n",
    "    'Q': 1,\n",
    "    'V': 0,\n",
    "    'C': 0,\n",
    "    'O': 0,\n",
    "    'I': 0,\n",
    "    'Æ': 0,\n",
    "    'D': 0,\n",
    "    # ikke så rød-blå\n",
    "    'B': 1,\n",
    "    'M': 0,\n",
    "    'K': 0\n",
    "}\n",
    "\n",
    "df['Block'] = df.CurrentPartyCode.map(blok_dict)\n",
    "df['28'] = df.Block.apply(lambda x: 0 if x==1 else 2)\n",
    "\n",
    "# education dummy variable\n",
    "edu_map = {\n",
    "    'Grundskole': 1,\n",
    "    '10. klasse': 2,\n",
    "    'Erhvervsuddannelse': 4,\n",
    "    'Gymnasial uddannelse': 4,\n",
    "    'Seminaruddannelse': 6,\n",
    "    'Bachelor-/diplomuddannelse': 6,\n",
    "    'Kandidat-/masteruddannelse': 7,\n",
    "    'Ph.d-uddannelse': 8\n",
    "}\n",
    "df['EducationLevel'] = df.Education.map(edu_map)\n",
    "df['29'] = df.EducationLevel.apply(lambda x: -2 if x >= 6 else 2)\n",
    "\n",
    "# Profession\n",
    "political_professions = {\n",
    "    'Folketingsmedlem' : True,\n",
    "     'Minister' : True,\n",
    "     'Ikke oplyst' : False,\n",
    "     'Offentligt ansat' : False,\n",
    "     'Byråds- eller regionsrådsmedlem' : True,\n",
    "     'Privat ansat/selvstændig' : False,\n",
    "     'Studerende' : False,\n",
    "     'Leder' : False,\n",
    "     'Ordfører for et parti' : True,\n",
    "     'Udenfor arbejdsmarkedet' : False,\n",
    "     'Partileder' : True,\n",
    "     'Europa-Parlamentariker' : True,\n",
    "}\n",
    "\n",
    "df[\"IsPolitical\"] = df[\"Profession\"].map(political_professions)\n",
    "df['30'] = df.IsPolitical.apply(lambda x: -2 if x else 2)"
   ]
  },
  {
   "cell_type": "code",
   "execution_count": 4,
   "metadata": {},
   "outputs": [],
   "source": [
    "def propensity(df, y, onehotvars=[], minmaxvars=[]):\n",
    "    clf = LogisticRegression()\n",
    "\n",
    "    ct = ColumnTransformer([\n",
    "        ('scaler', MinMaxScaler(), minmaxvars),\n",
    "        ('one hot', OneHotEncoder(), onehotvars)\n",
    "    ])\n",
    "\n",
    "    pipe = Pipeline([\n",
    "        ('column transformer', ct), \n",
    "        ('logistic reg', clf)\n",
    "    ])\n",
    "    \n",
    "    pipe.fit(df, y)\n",
    "    return pipe.predict_proba(df)[:, 1]"
   ]
  },
  {
   "cell_type": "code",
   "execution_count": 5,
   "metadata": {},
   "outputs": [],
   "source": [
    "def match(df1, df2):\n",
    "    x = df1.propensity.to_numpy().reshape(-1, 1)\n",
    "    y = df2.propensity.to_numpy().reshape(-1, 1)\n",
    "    nn = NearestNeighbors(n_neighbors=1)\n",
    "    nn.fit(x)\n",
    "    _, idx = nn.kneighbors(y)\n",
    "    return df1.iloc[idx.reshape(-1)], df2\n",
    "\n",
    "def match2(df1, df2):\n",
    "    x = df2.propensity.to_numpy().reshape(-1, 1)\n",
    "    y = df1.propensity.to_numpy().reshape(-1, 1)\n",
    "    nn = NearestNeighbors(n_neighbors=1)\n",
    "    nn.fit(x)\n",
    "    _, idx = nn.kneighbors(y)\n",
    "    return df2.iloc[idx.reshape(-1)], df1"
   ]
  },
  {
   "cell_type": "code",
   "execution_count": 6,
   "metadata": {},
   "outputs": [],
   "source": [
    "params = {\n",
    "    'onehotvars': ['CurrentPartyCode', 'Profession', 'Education', 'Gender']\n",
    "}\n",
    "\n",
    "y = df['Age'].map(lambda x: 1 if x < 30 else 0).to_numpy()\n",
    "df['propensity'] = propensity(df, y, **params)"
   ]
  },
  {
   "cell_type": "code",
   "execution_count": 7,
   "metadata": {},
   "outputs": [],
   "source": [
    "mask = df.Age < 30\n",
    "df1 = df[mask]\n",
    "df2 = df[~mask]\n",
    "df1, df2 = match(df1, df2)"
   ]
  },
  {
   "cell_type": "code",
   "execution_count": 8,
   "metadata": {},
   "outputs": [],
   "source": [
    "_, p_values = stats.ttest_rel(df1[[str(i) for i in range(1, 31)]], df2[[str(i) for i in range(1, 31)]])"
   ]
  },
  {
   "cell_type": "code",
   "execution_count": 9,
   "metadata": {},
   "outputs": [
    {
     "data": {
      "text/plain": [
       "array([ 0,  1,  4,  5,  6,  9, 10, 18, 19, 20, 21, 24, 25, 26, 27],\n",
       "      dtype=int64)"
      ]
     },
     "execution_count": 9,
     "metadata": {},
     "output_type": "execute_result"
    }
   ],
   "source": [
    "np.where(p_values <= 0.002)[0]"
   ]
  },
  {
   "cell_type": "code",
   "execution_count": 10,
   "metadata": {},
   "outputs": [],
   "source": [
    "plt.style.use('ggplot')"
   ]
  },
  {
   "cell_type": "code",
   "execution_count": 13,
   "metadata": {},
   "outputs": [
    {
     "data": {
      "text/plain": [
       "<matplotlib.legend.Legend at 0x2d1c9805d90>"
      ]
     },
     "execution_count": 13,
     "metadata": {},
     "output_type": "execute_result"
    },
    {
     "data": {
      "image/png": "[encoded data removed]",
      "text/plain": [
       "<Figure size 432x720 with 1 Axes>"
      ]
     },
     "metadata": {},
     "output_type": "display_data"
    }
   ],
   "source": [
    "fig, ax = plt.subplots(figsize=(6,10))\n",
    "y = np.arange(25)\n",
    "x1 = np.array([df1[str(i)].mean() for i in range(1, 26)])\n",
    "x2 = np.array([df2[str(i)].mean() for i in range(1, 26)])\n",
    "\n",
    "X = np.vstack((x1, x2)).T\n",
    "idx = np.argsort(-np.mean(X, axis=1))\n",
    "# idx = np.argsort(np.abs(x1 - x2))\n",
    "x1 = x1[idx]\n",
    "x2 = x2[idx]\n",
    "\n",
    "for n in y:\n",
    "    a = min(x1[n], x2[n])\n",
    "    b = max(x1[n], x2[n])\n",
    "    ax.hlines(n, a, b, color='grey')\n",
    "\n",
    "ax.scatter(x1, y, label='young')\n",
    "ax.scatter(x2, y, label='old')\n",
    "\n",
    "ax.set_yticks(y)\n",
    "\n",
    "ax.set_title('Difference between young/old mean opinion')\n",
    "ax.set_xlabel('Mean question answer')\n",
    "ax.set_ylabel('Question number')\n",
    "\n",
    "ax.set_yticklabels(y[idx])\n",
    "ax.legend()"
   ]
  }
 ],
 "metadata": {
  "kernelspec": {
   "display_name": "base",
   "language": "python",
   "name": "python3"
  },
  "language_info": {
   "codemirror_mode": {
    "name": "ipython",
    "version": 3
   },
   "file_extension": ".py",
   "mimetype": "text/x-python",
   "name": "python",
   "nbconvert_exporter": "python",
   "pygments_lexer": "ipython3",
   "version": "3.8.5"
  },
  "orig_nbformat": 4,
  "vscode": {
   "interpreter": {
    "hash": "7ad2d2b061933ccb46f02c21d4dc257a7efb561c7355abd71f7246fa8dd772fc"
   }
  }
 },
 "nbformat": 4,
 "nbformat_minor": 2
}
