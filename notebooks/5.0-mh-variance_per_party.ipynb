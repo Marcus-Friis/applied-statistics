{
 "cells": [
  {
   "cell_type": "code",
   "execution_count": 1,
   "id": "6cce81fc",
   "metadata": {},
   "outputs": [],
   "source": [
    "import pandas as pd\n",
    "from sklearn.cluster import DBSCAN\n",
    "from sklearn.decomposition import PCA\n",
    "import matplotlib.pyplot as plt\n",
    "import numpy as np\n",
    "from scipy import stats\n",
    "import seaborn as sns"
   ]
  },
  {
   "cell_type": "code",
   "execution_count": 2,
   "id": "be24e30e",
   "metadata": {},
   "outputs": [],
   "source": [
    "df = pd.read_csv('../data/kandidater_data.csv').dropna()"
   ]
  },
  {
   "cell_type": "code",
   "execution_count": 3,
   "id": "496ebd0c",
   "metadata": {},
   "outputs": [
    {
     "data": {
      "text/plain": [
       "['A', 'B', 'C', 'D', 'F', 'I', 'K', 'M', 'O', 'Q', 'V', 'Å', 'Æ', 'Ø']"
      ]
     },
     "execution_count": 3,
     "metadata": {},
     "output_type": "execute_result"
    }
   ],
   "source": [
    "sorted(list(df.CurrentPartyCode.unique()))"
   ]
  },
  {
   "cell_type": "code",
   "execution_count": 4,
   "id": "fce455d3",
   "metadata": {},
   "outputs": [],
   "source": [
    "df_a = df[df.CurrentPartyCode == \"A\"]\n",
    "df_b = df[df.CurrentPartyCode == \"B\"]\n",
    "df_c = df[df.CurrentPartyCode == \"C\"]\n",
    "df_d = df[df.CurrentPartyCode == \"D\"]\n",
    "df_f = df[df.CurrentPartyCode == \"F\"]\n",
    "df_i = df[df.CurrentPartyCode == \"I\"]\n",
    "df_k = df[df.CurrentPartyCode == \"K\"]\n",
    "df_m = df[df.CurrentPartyCode == \"M\"]\n",
    "df_o = df[df.CurrentPartyCode == \"O\"]\n",
    "df_q = df[df.CurrentPartyCode == \"Q\"]\n",
    "df_v = df[df.CurrentPartyCode == \"V\"]\n",
    "df_å = df[df.CurrentPartyCode == \"Å\"]\n",
    "df_æ = df[df.CurrentPartyCode == \"Æ\"]\n",
    "df_ø = df[df.CurrentPartyCode == \"Ø\"]"
   ]
  },
  {
   "cell_type": "code",
   "execution_count": 5,
   "id": "9a19180a",
   "metadata": {},
   "outputs": [],
   "source": [
    "X_a = df_a[[str(i) for i in range(1, 26)]]\n",
    "X_b = df_b[[str(i) for i in range(1, 26)]]\n",
    "X_c = df_c[[str(i) for i in range(1, 26)]]\n",
    "X_d = df_d[[str(i) for i in range(1, 26)]]\n",
    "X_f = df_f[[str(i) for i in range(1, 26)]]\n",
    "X_i = df_i[[str(i) for i in range(1, 26)]]\n",
    "X_k = df_k[[str(i) for i in range(1, 26)]]\n",
    "X_m = df_m[[str(i) for i in range(1, 26)]]\n",
    "X_o = df_o[[str(i) for i in range(1, 26)]]\n",
    "X_q = df_q[[str(i) for i in range(1, 26)]]\n",
    "X_v = df_v[[str(i) for i in range(1, 26)]]\n",
    "X_å = df_å[[str(i) for i in range(1, 26)]]\n",
    "X_æ = df_æ[[str(i) for i in range(1, 26)]]\n",
    "X_ø = df_ø[[str(i) for i in range(1, 26)]]"
   ]
  },
  {
   "cell_type": "code",
   "execution_count": 6,
   "id": "2895b0e7",
   "metadata": {},
   "outputs": [],
   "source": [
    "pca = PCA(n_components=1)"
   ]
  },
  {
   "cell_type": "code",
   "execution_count": 7,
   "id": "a0468bc0",
   "metadata": {},
   "outputs": [],
   "source": [
    "xt_a = pca.fit_transform(X_a)\n",
    "a = pca.explained_variance_ratio_"
   ]
  },
  {
   "cell_type": "code",
   "execution_count": 8,
   "id": "9831729e",
   "metadata": {},
   "outputs": [],
   "source": [
    "xt_b = pca.fit_transform(X_b)\n",
    "b = pca.explained_variance_ratio_"
   ]
  },
  {
   "cell_type": "code",
   "execution_count": 9,
   "id": "dd53fae9",
   "metadata": {},
   "outputs": [],
   "source": [
    "xt_c = pca.fit_transform(X_c)\n",
    "c = pca.explained_variance_ratio_"
   ]
  },
  {
   "cell_type": "code",
   "execution_count": 10,
   "id": "70137c95",
   "metadata": {},
   "outputs": [],
   "source": [
    "xt_d = pca.fit_transform(X_d)\n",
    "d = pca.explained_variance_ratio_"
   ]
  },
  {
   "cell_type": "code",
   "execution_count": 11,
   "id": "a85fbe86",
   "metadata": {},
   "outputs": [],
   "source": [
    "xt_f = pca.fit_transform(X_f)\n",
    "f = pca.explained_variance_ratio_"
   ]
  },
  {
   "cell_type": "code",
   "execution_count": 12,
   "id": "b3781cb3",
   "metadata": {},
   "outputs": [],
   "source": [
    "xt_i = pca.fit_transform(X_i)\n",
    "i = pca.explained_variance_ratio_"
   ]
  },
  {
   "cell_type": "code",
   "execution_count": 13,
   "id": "5fa0ffec",
   "metadata": {},
   "outputs": [
    {
     "data": {
      "text/plain": [
       "array([0.16160865])"
      ]
     },
     "execution_count": 13,
     "metadata": {},
     "output_type": "execute_result"
    }
   ],
   "source": [
    "i"
   ]
  },
  {
   "cell_type": "code",
   "execution_count": 14,
   "id": "f9c9b523",
   "metadata": {},
   "outputs": [],
   "source": [
    "xt_k = pca.fit_transform(X_k)\n",
    "k = pca.explained_variance_ratio_"
   ]
  },
  {
   "cell_type": "code",
   "execution_count": 15,
   "id": "ec2afcc3",
   "metadata": {},
   "outputs": [],
   "source": [
    "xt_m = pca.fit_transform(X_m)\n",
    "m = pca.explained_variance_ratio_"
   ]
  },
  {
   "cell_type": "code",
   "execution_count": 16,
   "id": "49cfb3d8",
   "metadata": {},
   "outputs": [],
   "source": [
    "xt_o = pca.fit_transform(X_o)\n",
    "o = pca.explained_variance_ratio_"
   ]
  },
  {
   "cell_type": "code",
   "execution_count": 17,
   "id": "66512763",
   "metadata": {},
   "outputs": [],
   "source": [
    "xt_q = pca.fit_transform(X_q)\n",
    "q = pca.explained_variance_ratio_"
   ]
  },
  {
   "cell_type": "code",
   "execution_count": 18,
   "id": "75a91be4",
   "metadata": {},
   "outputs": [],
   "source": [
    "xt_v = pca.fit_transform(X_v)\n",
    "v = pca.explained_variance_ratio_"
   ]
  },
  {
   "cell_type": "code",
   "execution_count": 19,
   "id": "9945f009",
   "metadata": {},
   "outputs": [],
   "source": [
    "xt_å = pca.fit_transform(X_å)\n",
    "å = pca.explained_variance_ratio_"
   ]
  },
  {
   "cell_type": "code",
   "execution_count": 20,
   "id": "82be2593",
   "metadata": {},
   "outputs": [],
   "source": [
    "xt_æ = pca.fit_transform(X_æ)\n",
    "æ = pca.explained_variance_ratio_"
   ]
  },
  {
   "cell_type": "code",
   "execution_count": 21,
   "id": "2675d631",
   "metadata": {},
   "outputs": [],
   "source": [
    "xt_ø = pca.fit_transform(X_ø)\n",
    "ø = pca.explained_variance_ratio_"
   ]
  },
  {
   "cell_type": "code",
   "execution_count": 22,
   "id": "ab049d7c",
   "metadata": {},
   "outputs": [],
   "source": [
    "party_variance_ratio = [i for i in (a,b,c,d,f,i,k,m,o,q,v,å,æ,ø)]\n",
    "#party_variance_ratio = [i for i in party_variance_ratio]"
   ]
  },
  {
   "cell_type": "code",
   "execution_count": 23,
   "id": "5edfc7e8",
   "metadata": {
    "scrolled": false
   },
   "outputs": [
    {
     "data": {
      "text/plain": [
       "[array([0.24549946]),\n",
       " array([0.15596916]),\n",
       " array([0.22565764]),\n",
       " array([0.25672015]),\n",
       " array([0.1905409]),\n",
       " array([0.16160865]),\n",
       " array([0.13088596]),\n",
       " array([0.1684402]),\n",
       " array([0.17503837]),\n",
       " array([0.39090118]),\n",
       " array([0.16648633]),\n",
       " array([0.15449765]),\n",
       " array([0.20055789]),\n",
       " array([0.21182754])]"
      ]
     },
     "execution_count": 23,
     "metadata": {},
     "output_type": "execute_result"
    }
   ],
   "source": [
    "party_variance_ratio"
   ]
  },
  {
   "cell_type": "code",
   "execution_count": 24,
   "id": "9de9763c",
   "metadata": {},
   "outputs": [],
   "source": [
    "letters = sorted(list(df.CurrentPartyCode.unique()))\n",
    "\n",
    "\n",
    "dictionary = {letters[i]: party_variance_ratio[i] for i in range(len(party_variance_ratio))}"
   ]
  },
  {
   "cell_type": "code",
   "execution_count": 25,
   "id": "016fde7a",
   "metadata": {
    "scrolled": true
   },
   "outputs": [
    {
     "data": {
      "text/plain": [
       "{'A': array([0.24549946]),\n",
       " 'B': array([0.15596916]),\n",
       " 'C': array([0.22565764]),\n",
       " 'D': array([0.25672015]),\n",
       " 'F': array([0.1905409]),\n",
       " 'I': array([0.16160865]),\n",
       " 'K': array([0.13088596]),\n",
       " 'M': array([0.1684402]),\n",
       " 'O': array([0.17503837]),\n",
       " 'Q': array([0.39090118]),\n",
       " 'V': array([0.16648633]),\n",
       " 'Å': array([0.15449765]),\n",
       " 'Æ': array([0.20055789]),\n",
       " 'Ø': array([0.21182754])}"
      ]
     },
     "execution_count": 25,
     "metadata": {},
     "output_type": "execute_result"
    }
   ],
   "source": [
    "dictionary"
   ]
  },
  {
   "cell_type": "code",
   "execution_count": 37,
   "id": "d40430d4",
   "metadata": {},
   "outputs": [],
   "source": [
    "labels = df.CurrentPartyCode.unique()\n",
    "colormap = {'A': '#A82721', \n",
    "            'O': '#EAC73E', \n",
    "            'V': '#254264', \n",
    "            'Ø': '#E6801A', \n",
    "            'I': '#3FB2BE', \n",
    "            'Å': '#2B8738', \n",
    "            'B': '#733280', \n",
    "            'F': '#E07EA8', \n",
    "            'C': '#96B226', \n",
    "            'D': '#127B7F', \n",
    "            'K': '#8B8474', \n",
    "            'Q': '#C49414', \n",
    "            'M': '#832B93', \n",
    "            'Æ': '#2C5877'}\n"
   ]
  },
  {
   "cell_type": "code",
   "execution_count": 48,
   "id": "0ae3dd84",
   "metadata": {},
   "outputs": [
    {
     "name": "stderr",
     "output_type": "stream",
     "text": [
      "C:\\Users\\Madshogenhaug\\Anaconda3\\lib\\site-packages\\ipykernel_launcher.py:3: DeprecationWarning: np.asscalar(a) is deprecated since NumPy v1.16, use a.item() instead\n",
      "  This is separate from the ipykernel package so we can avoid doing imports until\n"
     ]
    },
    {
     "data": {
      "image/png": "[encoded data removed]",
      "text/plain": [
       "<Figure size 432x288 with 1 Axes>"
      ]
     },
     "metadata": {},
     "output_type": "display_data"
    }
   ],
   "source": [
    "plt.style.use(\"ggplot\")\n",
    "\n",
    "values = [np.asscalar(val) for val in dictionary.values()]\n",
    "keys = list(dictionary.keys())\n",
    "\n",
    "fig, ax = plt.subplots()\n",
    "\n",
    "ax.bar(keys, values, color=[colormap[key] for key in keys])\n",
    "\n",
    "plt.title('')\n",
    "plt.xlabel('Party')\n",
    "plt.ylabel('Variance')\n",
    "\n",
    "plt.show()"
   ]
  }
 ],
 "metadata": {
  "kernelspec": {
   "display_name": "Python 3 (ipykernel)",
   "language": "python",
   "name": "python3"
  },
  "language_info": {
   "codemirror_mode": {
    "name": "ipython",
    "version": 3
   },
   "file_extension": ".py",
   "mimetype": "text/x-python",
   "name": "python",
   "nbconvert_exporter": "python",
   "pygments_lexer": "ipython3",
   "version": "3.7.12"
  }
 },
 "nbformat": 4,
 "nbformat_minor": 5
}
